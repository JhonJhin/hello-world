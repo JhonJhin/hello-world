{
 "cells": [
  {
   "cell_type": "markdown",
   "metadata": {},
   "source": [
    "# Primeiro Projeto - Jogo da Velha \n",
    "\n",
    "Abaixo está um conjunto de etapas para você seguir para tentar criar o jogo da velha!\n",
    "\n",
    "Etapa 1: Escreva uma função que pode imprimir o tabuleiro. Configure-o como uma lista, onde cada índice 1-9 corresponde a um número em um bloco de números, para que você obtenha uma representação do tabuleiro 3 por 3.\n",
    "\n",
    "Etapa 2: Escreva uma função que pode receber uma entrada de jogador e atribua seu marcador como 'X' ou 'O'. Pense em usar * while * para pedir jogadas continuamente até obter uma resposta correta.\n",
    " \n",
    "Etapa 3: Escreva uma função que recebe, no objeto da lista do tabuleiro, um marcador ('X' ou 'O') e uma posição desejada (número 1-9) e atribuia-o ao tabuleiro.\n",
    "\n",
    "Etapa 4: escreva uma função que recebe um tabuleiro e uma jogada (X ou O) e, em seguida, verifica se essa jogada ganhou.\n",
    "\n",
    "Etapa 5: Escreva uma função que usa o módulo random para decidir aleatoriamente qual jogador é o primeiro. Você pode querer pesquisar random.randint () Retornar uma string de qual jogador foi primeiro. \n",
    "\n",
    "Etapa 6: Escreva uma função que retorna um booleano indicando se um espaço na placa está livremente disponível.\n",
    "\n",
    "Etapa 7: escreva uma função que verifica se a placa está cheia e retorna um valor booleano. Verdadeiro se cheio, Falso de outra forma.\n",
    "\n",
    "Etapa 8: Escreva uma função que solicita a próxima posição de um jogador (como número 1-9) e, em seguida, usa a função do passo 6 para verificar se é uma posição livre. Se for, então retorne a posição para uso posterior. \n",
    "\n",
    "Passo 9: escreva uma função que pede ao jogador se eles querem jogar novamente e retorna um verdadeiro booleano se eles quiserem jogar novamente.\n",
    "\n",
    "Passo 10: Aqui vem a parte difícil! Use os loops e as funções que você fez para executar o jogo!\n",
    " "
   ]
  },
  {
   "cell_type": "code",
   "execution_count": null,
   "metadata": {},
   "outputs": [],
   "source": [
    "#CRIAÇÃO DO TABULEIRO.\n",
    "\n",
    "from IPython.display import clear_output  # Função que importei do Jupyter para limpar a tela quando for chamada. \n",
    "\n",
    "def display_board(board):  # Função do tabuleiro com o argumento board \n",
    "    \n",
    "    clear_output() # Sempre limpara a tela antes de mostrar a tabela\n",
    "    print('   |   |   ')\n",
    "    print(' '+ board[7]+' | '+board[8]+' | '+board[9]) #Criando e indentando as posições do tabuleiro\n",
    "    print('   |   |   ')\n",
    "    print('------------')\n",
    "    print('   |   |   ')\n",
    "    print(' '+board[4]+' | '+board[5]+' | '+board[6])\n",
    "    print('   |   |   ')\n",
    "    print('------------')\n",
    "    print('   |   |   ')\n",
    "    print(' '+board[1]+' | '+board[2]+' | '+board[3])\n",
    "    print('   |   |   ')\n",
    "    "
   ]
  },
  {
   "cell_type": "code",
   "execution_count": 2,
   "metadata": {},
   "outputs": [
    {
     "name": "stdout",
     "output_type": "stream",
     "text": [
      "   |   |   \n",
      " 7 | 8 | 9\n",
      "   |   |   \n",
      "------------\n",
      "   |   |   \n",
      " 4 | 5 | 6\n",
      "   |   |   \n",
      "------------\n",
      "   |   |   \n",
      " 1 | 2 | 3\n",
      "   |   |   \n"
     ]
    }
   ],
   "source": [
    "display_board(['',\"1\",\"2\",\"3\",\"4\",\"5\",\"6\",\"7\",\"8\",\"9\"]) # Como deve ficar as posições, respectivamente! "
   ]
  },
  {
   "cell_type": "code",
   "execution_count": 8,
   "metadata": {},
   "outputs": [],
   "source": [
    "#Definir quem é o player 1 X ou O\n",
    "\n",
    "def player_input():\n",
    "    \n",
    "    mark = \" \"    #Uso o objeto do tipo string, vazio para guardar o valor do input.\n",
    "    while not( mark == \"X\" or mark ==\"O\"):  #Uso de um laço. Enquanto não definir jogardor_1 'x' ou 'o' ficar perguntando.\n",
    "        mark = input(\"Player 1, defina seu símbolo: X ou O?\").upper() # Método de string para definir a resposta do input(que retorna uma string) como maiúscula\n",
    "    if mark == \"X\":           # Condição para retornar uma Tupla para gravaras os simbolos escolhidos\n",
    "        return (\"X\",\"O\")\n",
    "    else:\n",
    "        return (\"O\",\"X\")\n",
    "        \n",
    "    \n",
    "        "
   ]
  },
  {
   "cell_type": "code",
   "execution_count": 9,
   "metadata": {},
   "outputs": [
    {
     "name": "stdout",
     "output_type": "stream",
     "text": [
      "Player 1, defina seu símbolo: X ou O?x\n"
     ]
    },
    {
     "data": {
      "text/plain": [
       "('X', 'O')"
      ]
     },
     "execution_count": 9,
     "metadata": {},
     "output_type": "execute_result"
    }
   ],
   "source": [
    "player_input()  #Chamar Função e retornar uma tupla de resposta para saber que é o player 1"
   ]
  },
  {
   "cell_type": "code",
   "execution_count": 10,
   "metadata": {},
   "outputs": [],
   "source": [
    "#Receber valor na tabela\n",
    "\n",
    "def place_marker(board,mark,position): #Defini entrada na tabela da simbolo e da posição\n",
    "    \n",
    "    board[position] = mark #Exempleficando board[7] = O * Defini na posição 7 da tabela o valor igual ao O na lista "
   ]
  },
  {
   "cell_type": "code",
   "execution_count": null,
   "metadata": {},
   "outputs": [],
   "source": []
  }
 ],
 "metadata": {
  "kernelspec": {
   "display_name": "Python 3",
   "language": "python",
   "name": "python3"
  },
  "language_info": {
   "codemirror_mode": {
    "name": "ipython",
    "version": 3
   },
   "file_extension": ".py",
   "mimetype": "text/x-python",
   "name": "python",
   "nbconvert_exporter": "python",
   "pygments_lexer": "ipython3",
   "version": "3.7.1"
  }
 },
 "nbformat": 4,
 "nbformat_minor": 2
}
