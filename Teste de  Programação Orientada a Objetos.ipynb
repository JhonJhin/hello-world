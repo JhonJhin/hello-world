{
 "cells": [
  {
   "cell_type": "markdown",
   "metadata": {},
   "source": [
    "# Programação orientada a objetos\n",
    "\n",
    "#### Problema 1\n",
    "Preencha os métodos da classe Line para aceitar coordenadas como um par de tuplas e retornar a inclinação e a distância da linha."
   ]
  },
  {
   "cell_type": "code",
   "execution_count": 47,
   "metadata": {},
   "outputs": [],
   "source": [
    "import math \n",
    "\n",
    "class Line(object):  \n",
    "\n",
    "    def __init__(self,coor1,coor2):        \n",
    "        self.coor1 = coor1\n",
    "        self.coor2 = coor2       \n",
    "     \n",
    "    def distance(self):\n",
    "              \n",
    "        (a,b) = self.coor1\n",
    "        (c,d) = self.coor2\n",
    "            \n",
    "        dist = math.sqrt(((b-a)**2) + ((d-c)**2))\n",
    "            \n",
    "        return dist\n",
    "\n",
    "    def slope(self):\n",
    "        (a,b) = self.coor1\n",
    "        (c,d) = self.coor2\n",
    "       \n",
    "        return float((d-b)/(c-a))\n"
   ]
  },
  {
   "cell_type": "code",
   "execution_count": 48,
   "metadata": {},
   "outputs": [],
   "source": [
    "coordenada1 = (1,3)\n",
    "coordenada2 = (4,1)\n",
    "\n",
    "plano = Line(coordenada1,coordenada2)"
   ]
  },
  {
   "cell_type": "code",
   "execution_count": 49,
   "metadata": {},
   "outputs": [
    {
     "data": {
      "text/plain": [
       "3.605551275463989"
      ]
     },
     "execution_count": 49,
     "metadata": {},
     "output_type": "execute_result"
    }
   ],
   "source": [
    "plano.distance()"
   ]
  },
  {
   "cell_type": "code",
   "execution_count": 50,
   "metadata": {},
   "outputs": [
    {
     "data": {
      "text/plain": [
       "-0.6666666666666666"
      ]
     },
     "execution_count": 50,
     "metadata": {},
     "output_type": "execute_result"
    }
   ],
   "source": [
    "plano.slope()"
   ]
  },
  {
   "cell_type": "markdown",
   "metadata": {},
   "source": [
    "________\n",
    "#### Problema 2"
   ]
  },
  {
   "cell_type": "markdown",
   "metadata": {},
   "source": [
    "Preencha a classe ___init__,volume e surface_area."
   ]
  },
  {
   "cell_type": "code",
   "execution_count": 3,
   "metadata": {},
   "outputs": [],
   "source": [
    "class Cylinder(object):\n",
    "        \n",
    "    \n",
    "    def __init__(self,height=1,radius=1):\n",
    "        \n",
    "        self.height = height\n",
    "        self.radius = radius\n",
    "        \n",
    "        pass\n",
    "        \n",
    "    def volume(self):\n",
    "        pi = 3.14\n",
    "        vol = (pi) * (self.radius ** 2) * self.height\n",
    "        \n",
    "        return vol\n",
    "    \n",
    "    def surface_area(self):\n",
    "        pi = 3.14\n",
    "        areatotal = 2 * (pi * (self.radius**2)) + (2 * pi * self.radius * self.height)\n",
    "        \n",
    "        return areatotal"
   ]
  },
  {
   "cell_type": "code",
   "execution_count": 21,
   "metadata": {},
   "outputs": [],
   "source": [
    "c = Cylinder(3,9)"
   ]
  },
  {
   "cell_type": "code",
   "execution_count": 22,
   "metadata": {},
   "outputs": [
    {
     "data": {
      "text/plain": [
       "763.02"
      ]
     },
     "execution_count": 22,
     "metadata": {},
     "output_type": "execute_result"
    }
   ],
   "source": [
    "c.volume()"
   ]
  },
  {
   "cell_type": "code",
   "execution_count": 23,
   "metadata": {},
   "outputs": [
    {
     "data": {
      "text/plain": [
       "678.24"
      ]
     },
     "execution_count": 23,
     "metadata": {},
     "output_type": "execute_result"
    }
   ],
   "source": [
    "c.surface_area()"
   ]
  }
 ],
 "metadata": {
  "kernelspec": {
   "display_name": "Python 3",
   "language": "python",
   "name": "python3"
  },
  "language_info": {
   "codemirror_mode": {
    "name": "ipython",
    "version": 3
   },
   "file_extension": ".py",
   "mimetype": "text/x-python",
   "name": "python",
   "nbconvert_exporter": "python",
   "pygments_lexer": "ipython3",
   "version": "3.7.1"
  }
 },
 "nbformat": 4,
 "nbformat_minor": 1
}
